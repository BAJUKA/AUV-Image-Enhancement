{
 "cells": [
  {
   "cell_type": "code",
   "execution_count": null,
   "metadata": {
    "collapsed": false
   },
   "outputs": [
    {
     "name": "stdout",
     "output_type": "stream",
     "text": [
      "3\n",
      "3\n"
     ]
    }
   ],
   "source": [
    "import cv2\n",
    "import numpy as np\n",
    "from matplotlib import pyplot as plt\n",
    "\n",
    "\n",
    "img = cv2.imread('24.jpg',1)\n",
    "imgn = cv2.imread('24.jpg',1)\n",
    "final = cv2.medianBlur(img, 5)\n",
    "#res = np.hstack((img,final))\n",
    "#cv2.imwrite('res1.png',res)\n",
    "#histogram equlization on YCbCr\n",
    "def hisEqulColor(img):\n",
    "        ycrcb=cv2.cvtColor(img,cv2.COLOR_BGR2YCR_CB)\n",
    "        channels=cv2.split(ycrcb)\n",
    "        print(len(channels))\n",
    "        cv2.equalizeHist(channels[0],channels[0])\n",
    "        cv2.merge(channels,ycrcb)\n",
    "        cv2.cvtColor(ycrcb,cv2.COLOR_YCR_CB2BGR,img)\n",
    "        return img\n",
    "\n",
    "equ=hisEqulColor(img)\n",
    "#ClAHE on YCbCr\n",
    "def createCLAHEcolor(img):\n",
    "        ycrcb=cv2.cvtColor(img,cv2.COLOR_BGR2YCR_CB)\n",
    "        channels=cv2.split(ycrcb)\n",
    "        print(len(channels))\n",
    "        clahe1=cv2.createCLAHE(clipLimit=2.0, tileGridSize=(5,5))\n",
    "        clahe1.apply(channels[0],channels[0])\n",
    "        cv2.merge(channels,ycrcb)\n",
    "        cv2.cvtColor(ycrcb,cv2.COLOR_YCR_CB2BGR,img)\n",
    "        return img\n",
    "cl2=createCLAHEcolor(equ)\n",
    "\n",
    "##img1 = cv2.cvtColor(img,cv2.COLOR_GRAY2BGR)\n",
    "#cl2 = cv2.cvtColor(cl1,cv2.COLOR_GRAY2BGR)\n",
    "res3 = np.hstack((imgn,cl2))\n",
    "\n",
    "cv2.imwrite('rgbclahe24.png',res3)\n",
    "#key=cv2.imread('rgbclahe24.png',1)\n",
    "#cv2.imshow('image',img)\n",
    "#cv2.waitKey(0)\n",
    "#cv2.destroyAllWindows()\n",
    "#as run these last 4 commands then kernel terminate you can see this image  in file where all images are store\n",
    "\n",
    "\n",
    "\n"
   ]
  },
  {
   "cell_type": "code",
   "execution_count": null,
   "metadata": {
    "collapsed": true
   },
   "outputs": [],
   "source": []
  }
 ],
 "metadata": {
  "kernelspec": {
   "display_name": "Python [Root]",
   "language": "python",
   "name": "Python [Root]"
  },
  "language_info": {
   "codemirror_mode": {
    "name": "ipython",
    "version": 3
   },
   "file_extension": ".py",
   "mimetype": "text/x-python",
   "name": "python",
   "nbconvert_exporter": "python",
   "pygments_lexer": "ipython3",
   "version": "3.5.2"
  }
 },
 "nbformat": 4,
 "nbformat_minor": 0
}
